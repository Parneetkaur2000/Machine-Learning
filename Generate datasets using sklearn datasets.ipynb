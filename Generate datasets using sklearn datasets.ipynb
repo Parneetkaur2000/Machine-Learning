{
 "cells": [
  {
   "cell_type": "code",
   "execution_count": 5,
   "metadata": {},
   "outputs": [
    {
     "name": "stdout",
     "output_type": "stream",
     "text": [
      "[[ 1.12031365  5.75806083]\n",
      " [-0.49772229  1.55128226]\n",
      " [ 1.9263585   4.15243012]\n",
      " [ 2.49913075  1.23133799]\n",
      " [ 3.54934659  0.6925054 ]\n",
      " [ 1.7373078   4.42546234]\n",
      " [ 2.91970372  0.15549864]\n",
      " [ 2.84382807  3.32650945]\n",
      " [ 0.87305123  4.71438583]\n",
      " [ 2.36833522  0.04356792]]\n",
      "[0 1 0 1 1 0 1 0 0 1]\n"
     ]
    }
   ],
   "source": [
    "from sklearn.datasets import make_blobs\n",
    "X1,y1 = make_blobs(n_samples = 10, centers = 2,n_features = 2\n",
    "                 , random_state = 0)\n",
    "print(X1)\n",
    "print(y1)\n",
    "\n"
   ]
  },
  {
   "cell_type": "code",
   "execution_count": 30,
   "metadata": {},
   "outputs": [
    {
     "name": "stdout",
     "output_type": "stream",
     "text": [
      "[[ 1.12031365  5.75806083]\n",
      " [ 2.81630525  1.01933868]\n",
      " [ 2.36833522  0.04356792]\n",
      " [ 0.87305123  4.71438583]\n",
      " [-0.66246781  2.17571724]\n",
      " [ 0.74285061  1.46351659]\n",
      " [-4.07989383  3.57150086]\n",
      " [ 3.54934659  0.6925054 ]\n",
      " [ 2.49913075  1.23133799]\n",
      " [ 1.9263585   4.15243012]]\n",
      "[0 1 1 0 2 2 2 1 1 0]\n"
     ]
    }
   ],
   "source": [
    "from sklearn.datasets import make_blobs\n",
    "X,y = make_blobs(n_samples = [3,4,3], centers = None ,n_features = 2\n",
    "                 , random_state = 0)\n",
    "print(X)\n",
    "print(y)"
   ]
  },
  {
   "cell_type": "code",
   "execution_count": 31,
   "metadata": {},
   "outputs": [
    {
     "name": "stdout",
     "output_type": "stream",
     "text": [
      "[[-0.80901699  0.58778525]\n",
      " [-0.6472136  -0.4702282 ]\n",
      " [ 0.30901699 -0.95105652]\n",
      " [ 0.2472136  -0.76084521]\n",
      " [ 0.30901699  0.95105652]\n",
      " [ 0.2472136   0.76084521]\n",
      " [-0.6472136   0.4702282 ]\n",
      " [-0.80901699 -0.58778525]\n",
      " [ 1.          0.        ]\n",
      " [ 0.8         0.        ]]\n",
      "[0 1 0 1 0 1 1 0 0 1]\n"
     ]
    }
   ],
   "source": [
    "from sklearn.datasets import make_circles\n",
    "X,y = make_circles(n_samples = 10, random_state = 0)\n",
    "print(X)\n",
    "print(y)"
   ]
  },
  {
   "cell_type": "code",
   "execution_count": 54,
   "metadata": {},
   "outputs": [
    {
     "name": "stdout",
     "output_type": "stream",
     "text": [
      "[[ 1.12031365  5.75806083]\n",
      " [ 2.81630525  1.01933868]\n",
      " [ 2.36833522  0.04356792]\n",
      " [ 0.87305123  4.71438583]\n",
      " [-0.66246781  2.17571724]\n",
      " [ 0.74285061  1.46351659]\n",
      " [-4.07989383  3.57150086]\n",
      " [ 3.54934659  0.6925054 ]\n",
      " [ 2.49913075  1.23133799]\n",
      " [ 1.9263585   4.15243012]]\n",
      "[0 1 1 0 2 2 2 1 1 0]\n"
     ]
    }
   ],
   "source": [
    "from sklearn.datasets import make_blobs\n",
    "X,y = make_blobs(n_samples = [3,4,3] ,n_features = 2\n",
    "                 , random_state = 0)\n",
    "print(X)\n",
    "print(y)"
   ]
  },
  {
   "cell_type": "code",
   "execution_count": 41,
   "metadata": {},
   "outputs": [
    {
     "name": "stdout",
     "output_type": "stream",
     "text": [
      "[[-5.00000000e-01  8.66025404e-01]\n",
      " [-8.00000000e-01  9.79717439e-17]\n",
      " [-5.00000000e-01 -8.66025404e-01]\n",
      " [-1.46957616e-16 -8.00000000e-01]\n",
      " [ 5.00000000e-01  8.66025404e-01]\n",
      " [ 8.00000000e-01  0.00000000e+00]\n",
      " [ 4.89858720e-17  8.00000000e-01]\n",
      " [-1.00000000e+00  1.22464680e-16]\n",
      " [ 1.00000000e+00  0.00000000e+00]\n",
      " [ 5.00000000e-01 -8.66025404e-01]]\n",
      "[0 1 0 1 0 1 1 0 0 0]\n"
     ]
    }
   ],
   "source": [
    "from sklearn.datasets import make_circles\n",
    "X,y = make_circles(n_samples = (6,4), random_state = 0)\n",
    "print(X)\n",
    "print(y)"
   ]
  },
  {
   "cell_type": "code",
   "execution_count": 53,
   "metadata": {},
   "outputs": [
    {
     "name": "stdout",
     "output_type": "stream",
     "text": [
      "[[ 6.12323400e-17  1.00000000e+00]\n",
      " [ 8.00000000e-01  0.00000000e+00]\n",
      " [-1.00000000e+00  1.22464680e-16]\n",
      " [-8.00000000e-01  9.79717439e-17]\n",
      " [ 7.07106781e-01  7.07106781e-01]\n",
      " [-1.83697020e-16 -1.00000000e+00]\n",
      " [ 7.07106781e-01 -7.07106781e-01]\n",
      " [-7.07106781e-01  7.07106781e-01]\n",
      " [ 1.00000000e+00  0.00000000e+00]\n",
      " [-7.07106781e-01 -7.07106781e-01]]\n",
      "[0 1 0 1 0 0 0 0 0 0]\n"
     ]
    }
   ],
   "source": [
    "from sklearn.datasets import make_circles\n",
    "X,y = make_circles(n_samples = (8,2), random_state = 0,shuffle = True)\n",
    "print(X)\n",
    "print(y)\n"
   ]
  },
  {
   "cell_type": "code",
   "execution_count": 44,
   "metadata": {},
   "outputs": [
    {
     "name": "stdout",
     "output_type": "stream",
     "text": [
      "[[ 6.12323400e-17  1.00000000e+00]\n",
      " [ 1.70710678e+00 -2.07106781e-01]\n",
      " [-1.00000000e+00  1.22464680e-16]\n",
      " [ 2.00000000e+00  5.00000000e-01]\n",
      " [ 7.07106781e-01  7.07106781e-01]\n",
      " [ 2.92893219e-01 -2.07106781e-01]\n",
      " [ 1.00000000e+00 -5.00000000e-01]\n",
      " [-7.07106781e-01  7.07106781e-01]\n",
      " [ 1.00000000e+00  0.00000000e+00]\n",
      " [ 0.00000000e+00  5.00000000e-01]]\n",
      "[0 1 0 1 0 1 1 0 0 1]\n"
     ]
    }
   ],
   "source": [
    "from sklearn.datasets import make_moons\n",
    "X,y = make_moons(n_samples = 10, random_state = 0)\n",
    "print(X)\n",
    "print(y)"
   ]
  },
  {
   "cell_type": "code",
   "execution_count": 45,
   "metadata": {},
   "outputs": [
    {
     "name": "stdout",
     "output_type": "stream",
     "text": [
      "[[ 5.00000000e-01  8.66025404e-01]\n",
      " [ 1.00000000e+00 -5.00000000e-01]\n",
      " [-5.00000000e-01  8.66025404e-01]\n",
      " [ 2.00000000e+00  5.00000000e-01]\n",
      " [ 8.66025404e-01  5.00000000e-01]\n",
      " [-1.00000000e+00  1.22464680e-16]\n",
      " [ 0.00000000e+00  5.00000000e-01]\n",
      " [ 6.12323400e-17  1.00000000e+00]\n",
      " [ 1.00000000e+00  0.00000000e+00]\n",
      " [-8.66025404e-01  5.00000000e-01]]\n",
      "[0 1 0 1 0 0 1 0 0 0]\n"
     ]
    }
   ],
   "source": [
    "from sklearn.datasets import make_moons\n",
    "X,y = make_moons(n_samples = (7,3), random_state = 0)\n",
    "print(X)\n",
    "print(y)"
   ]
  },
  {
   "cell_type": "code",
   "execution_count": 52,
   "metadata": {},
   "outputs": [
    {
     "name": "stdout",
     "output_type": "stream",
     "text": [
      "[[ 1.00000000e+00  0.00000000e+00]\n",
      " [ 5.00000000e-01  8.66025404e-01]\n",
      " [-5.00000000e-01  8.66025404e-01]\n",
      " [-1.00000000e+00  1.22464680e-16]\n",
      " [ 0.00000000e+00  5.00000000e-01]\n",
      " [ 1.90983006e-01 -8.77852523e-02]\n",
      " [ 6.90983006e-01 -4.51056516e-01]\n",
      " [ 1.30901699e+00 -4.51056516e-01]\n",
      " [ 1.80901699e+00 -8.77852523e-02]\n",
      " [ 2.00000000e+00  5.00000000e-01]]\n",
      "[0 0 0 0 1 1 1 1 1 1]\n"
     ]
    }
   ],
   "source": [
    "from sklearn.datasets import make_moons\n",
    "X,y = make_moons(n_samples = (4,6), random_state = 0, shuffle = False)\n",
    "print(X)\n",
    "print(y)"
   ]
  },
  {
   "cell_type": "code",
   "execution_count": 57,
   "metadata": {},
   "outputs": [
    {
     "name": "stdout",
     "output_type": "stream",
     "text": [
      "[[ 0.07612047  0.11731657]\n",
      " [ 2.          0.5       ]\n",
      " [ 1.38268343 -0.42387953]\n",
      " [ 0.61731657 -0.42387953]\n",
      " [ 1.          0.        ]\n",
      " [ 0.29289322 -0.20710678]\n",
      " [ 0.          0.5       ]\n",
      " [ 1.70710678 -0.20710678]\n",
      " [ 1.92387953  0.11731657]\n",
      " [ 1.         -0.5       ]]\n",
      "[1 1 1 1 0 1 1 1 1 1]\n",
      "<function make_circles at 0x000002985012FC10>\n",
      "(array([[ 1.12031365,  5.75806083],\n",
      "       [ 1.7373078 ,  4.42546234],\n",
      "       [ 2.36833522,  0.04356792],\n",
      "       [ 0.87305123,  4.71438583],\n",
      "       [-0.66246781,  2.17571724],\n",
      "       [ 0.74285061,  1.46351659],\n",
      "       [-4.07989383,  3.57150086],\n",
      "       [ 3.54934659,  0.6925054 ],\n",
      "       [ 2.49913075,  1.23133799],\n",
      "       [ 1.9263585 ,  4.15243012]]), array([0, 0, 1, 0, 2, 2, 2, 1, 1, 0]))\n"
     ]
    }
   ],
   "source": [
    "from sklearn.datasets import make_moons,make_circles,make_blobs\n",
    "X,y = make_moons(n_samples = (1,9), random_state = 1,shuffle = True)\n",
    "X1,y1 = make_circles,make_blobs(n_samples = 10 , random_state = 0 , centers = 3)\n",
    "print(X)\n",
    "print(y)\n",
    "print(X1)\n",
    "print(y1)"
   ]
  },
  {
   "cell_type": "code",
   "execution_count": null,
   "metadata": {},
   "outputs": [],
   "source": []
  }
 ],
 "metadata": {
  "kernelspec": {
   "display_name": "Python 3",
   "language": "python",
   "name": "python3"
  },
  "language_info": {
   "codemirror_mode": {
    "name": "ipython",
    "version": 3
   },
   "file_extension": ".py",
   "mimetype": "text/x-python",
   "name": "python",
   "nbconvert_exporter": "python",
   "pygments_lexer": "ipython3",
   "version": "3.8.3"
  }
 },
 "nbformat": 4,
 "nbformat_minor": 4
}
